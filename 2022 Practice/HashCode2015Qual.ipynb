{
 "cells": [
  {
   "cell_type": "code",
   "execution_count": null,
   "metadata": {},
   "outputs": [],
   "source": [
    "lines = open('dc.in', 'r').readlines()\n",
    "n_rows, n_cols, n_unavailable, n_pools, n_servers = [int(s) for s in lines[0].strip().split()]\n",
    "unavailable = [\n",
    "    [int(s) for s in line.strip().split()]\n",
    "    for line in lines[1: 1 + n_unavailable]\n",
    "]\n",
    "unavailable.sort(key = lambda x: 100 * x[0] + x[1])\n",
    "servers = [\n",
    "    [int(s) for s in line.strip().split()]\n",
    "    for line in lines[1 + n_unavailable : ]\n",
    "]\n",
    "servers.sort(key = lambda x: 1.0 * x[1] / x[0], reverse=True)\n",
    "rows_desc = dict()\n",
    "for row in range(16):\n",
    "    row_unav = [u for u in unavailable if u[0] == row]\n",
    "    row_desc = []\n",
    "    for i in range(len(row_unav)):\n",
    "        if i == 0:\n",
    "            row_desc.append([0, row_unav[0][1]])\n",
    "        else:\n",
    "            row_desc.append([row_unav[i-1][1] + 1, row_unav[i][1] - row_unav[i-1][1] - 1])\n",
    "    if row_unav[-1][1] != n_cols-1:\n",
    "        row_desc.append([row_unav[-1][1]+1, n_cols-row_unav[-1][1]])\n",
    "    rows_desc[row] = row_desc"
   ]
  },
  {
   "cell_type": "code",
   "execution_count": null,
   "metadata": {},
   "outputs": [],
   "source": [
    "lines = open('dc.in', 'r').readlines()\n",
    "n_rows, n_cols, n_unavailable, n_pools, n_servers = [int(s) for s in lines[0].strip().split()]\n",
    "unavailable = [\n",
    "    [int(s) for s in line.strip().split()]\n",
    "    for line in lines[1: 1 + n_unavailable]\n",
    "]\n",
    "unavailable.sort(key = lambda x: 100 * x[0] + x[1])\n",
    "servers = [\n",
    "    [int(s) for s in line.strip().split()]\n",
    "    for line in lines[1 + n_unavailable : ]\n",
    "]\n",
    "servers = [[i] + servers[i] for i in range(len(servers))]\n",
    "servers.sort(key = lambda x: 1.0 * x[2] / x[1] * 1000 - x[1], reverse=True)\n",
    "\n",
    "rows_desc = dict()\n",
    "for row in range(n_rows):\n",
    "    row_unav = [u for u in unavailable if u[0] == row]\n",
    "    row_desc = []\n",
    "    for i in range(len(row_unav) + 1):\n",
    "        if i == 0:\n",
    "            if row_unav[0][1] != 0:\n",
    "                row_desc.append([0, row_unav[0][1]])\n",
    "        elif i != len(row_unav):\n",
    "            row_desc.append([row_unav[i-1][1] + 1, row_unav[i][1] - row_unav[i-1][1] - 1])\n",
    "        else:\n",
    "            if row_unav[-1][1] != 99:\n",
    "                row_desc.append([row_unav[-1][1] + 1, 98 - row_unav[-1][1] + 1])\n",
    "    rows_desc[row] = {\n",
    "        'row_unav': row_unav,\n",
    "        'row_desc': row_desc}\n"
   ]
  },
  {
   "cell_type": "code",
   "execution_count": null,
   "metadata": {},
   "outputs": [],
   "source": [
    "servers[:10]"
   ]
  },
  {
   "cell_type": "code",
   "execution_count": null,
   "metadata": {},
   "outputs": [],
   "source": [
    "rows_desc[0]['row_desc']"
   ]
  },
  {
   "cell_type": "code",
   "execution_count": 1,
   "metadata": {},
   "outputs": [
    {
     "name": "stdout",
     "output_type": "stream",
     "text": [
      "Requirement already satisfied: pycodestyle in c:\\users\\caleb\\anaconda3\\lib\\site-packages (2.6.0)\n",
      "Requirement already satisfied: pycodestyle_magic in c:\\users\\caleb\\anaconda3\\lib\\site-packages (0.5)\n"
     ]
    }
   ],
   "source": [
    "!pip install pycodestyle pycodestyle_magic"
   ]
  },
  {
   "cell_type": "code",
   "execution_count": 2,
   "metadata": {},
   "outputs": [],
   "source": [
    "%load_ext pycodestyle_magic"
   ]
  },
  {
   "cell_type": "code",
   "execution_count": 4,
   "metadata": {},
   "outputs": [],
   "source": [
    "%%pycodestyle\n",
    "\n",
    "# servers = []\n",
    "# row = [(index, size) for available spaces to put things]\n",
    "# rows = []\n",
    "lines = open('dc.in', 'r').readlines()\n",
    "n_rows, n_cols, n_unavailable, n_pools, n_servers = [int(s) for s in lines[0].strip().split()]\n",
    "unavailable = [\n",
    "    [int(s) for s in line.strip().split()]\n",
    "    for line in lines[1: 1 + n_unavailable]\n",
    "]\n",
    "unavailable.sort(key = lambda x: 100 * x[0] + x[1])\n",
    "servers = [\n",
    "    [int(s) for s in line.strip().split()]\n",
    "    for line in lines[1 + n_unavailable : ]\n",
    "]\n",
    "servers = [[i] + servers[i] for i in range(len(servers))]\n",
    "servers.sort(key = lambda x: 1.0 * x[2] / x[1] * 1000 - x[1], reverse=True)\n",
    "\n",
    "rows_desc = dict()\n",
    "for row in range(n_rows):\n",
    "    row_unav = [u for u in unavailable if u[0] == row]\n",
    "    row_desc = []\n",
    "    for i in range(len(row_unav) + 1):\n",
    "        if i == 0:\n",
    "            if row_unav[0][1] != 0:\n",
    "                row_desc.append([0, row_unav[0][1]])\n",
    "        elif i != len(row_unav):\n",
    "            row_desc.append([row_unav[i-1][1] + 1, row_unav[i][1] - row_unav[i-1][1] - 1])\n",
    "        else:\n",
    "            if row_unav[-1][1] != 99:\n",
    "                row_desc.append([row_unav[-1][1] + 1, 98 - row_unav[-1][1] + 1])\n",
    "    rows_desc[row] = {\n",
    "        'row_unav': row_unav,\n",
    "        'row_desc': row_desc}\n",
    "\n",
    "\n",
    "\n",
    "\n",
    "row_capacity = [0 for row in row_desc]\n",
    "\n",
    "solution = {}\n",
    "\n",
    "# Assume servers is sorted\n",
    "for _, server in enumerate(servers):\n",
    "    # Choose the current lowest capacity row\n",
    "    # no randomness yet-- just chooses the first minimum\n",
    "    row_index = row_capacity.index(min(row_capacity))\n",
    "    \n",
    "    cur_row = rows_desc[row_index]['row_desc']\n",
    "    # Add the server to the row, if possible.\n",
    "    for i in range(len(cur_row)):\n",
    "        pair = cur_row[i]\n",
    "        if pair[1] >= server[1]:\n",
    "            solution[server[0]] = f\"{row_index} {pair[0]} x\"\n",
    "            row_capacity[row_index] += server[2]\n",
    "            if pair[1] == server[0]:\n",
    "                del rows_desc[row_index]['row_desc'][i]\n",
    "            else:\n",
    "                rows_desc[row_index]['row_desc'][i][0] += server[0]\n",
    "                rows_desc[row_index]['row_desc'][i][1] -= server[0]\n",
    "            break\n",
    "#     if _ % 10 == 0:\n",
    "#         print(row_capacity)\n",
    "print(len(solution))\n",
    "\n",
    "for i in range(len(servers)):\n",
    "    if i in solution:\n",
    "        print(f\"Add server {i} to row {solution[i][0]} at slot {solution[i][2:-1]}\")"
   ]
  },
  {
   "cell_type": "code",
   "execution_count": null,
   "metadata": {},
   "outputs": [],
   "source": []
  }
 ],
 "metadata": {
  "kernelspec": {
   "display_name": "Python 3",
   "language": "python",
   "name": "python3"
  },
  "language_info": {
   "codemirror_mode": {
    "name": "ipython",
    "version": 3
   },
   "file_extension": ".py",
   "mimetype": "text/x-python",
   "name": "python",
   "nbconvert_exporter": "python",
   "pygments_lexer": "ipython3",
   "version": "3.8.5"
  }
 },
 "nbformat": 4,
 "nbformat_minor": 4
}
