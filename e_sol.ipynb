{
 "cells": [
  {
   "cell_type": "code",
   "execution_count": 1,
   "id": "1945892f",
   "metadata": {},
   "outputs": [],
   "source": [
    "import numpy as np\n",
    "from parser_books import *\n",
    "import pandas as pd"
   ]
  },
  {
   "cell_type": "code",
   "execution_count": 2,
   "id": "2d762f84",
   "metadata": {},
   "outputs": [],
   "source": [
    "P = Parser('HashCode2020-OnlineQualificationRound/e.txt')\n",
    "P.parse()\n",
    "\n",
    "Sorted_Libraries = P.libraries\n",
    "Sorted_Libraries.sort(key = lambda x: x.total_score, reverse=True)\n",
    "    \n",
    "Ordered_Lib = []\n",
    "for l in Sorted_Libraries[:300]:\n",
    "    if l.n_scans > 1:\n",
    "        Ordered_Lib.append(l)\n",
    "for l in Sorted_Libraries[:300]:\n",
    "    if l.n_scans == 1:\n",
    "        Ordered_Lib.append(l)"
   ]
  },
  {
   "cell_type": "code",
   "execution_count": null,
   "id": "efcacc2c",
   "metadata": {},
   "outputs": [],
   "source": [
    "DD = {\n",
    "'a': 21,\n",
    "'b': 4126100,\n",
    "'c': 958684,\n",
    "'d': 4590430,\n",
    "'e': 1945258,\n",
    "'f': 1106994,\n",
    "}\n",
    "np.sum([DD[d] for d in DD])\n",
    "12,727,487\n"
   ]
  },
  {
   "cell_type": "code",
   "execution_count": 3,
   "id": "a5bc56d9",
   "metadata": {},
   "outputs": [],
   "source": [
    "N_DAYS = P.n_days\n",
    "BOOKS_SCORE = P.book_scores\n",
    "CC = 0\n",
    "\n",
    "for l in Ordered_Lib:\n",
    "    CC += l.n_days\n",
    "    setattr(l, 'start', CC)\n",
    "    book_ids = [(book, BOOKS_SCORE[book]) for book in l.books_ids]\n",
    "    book_ids.sort(key = lambda x: x[1], reverse=True)\n",
    "    setattr(l, 'book_list', book_ids)\n",
    "bucket = set()\n",
    "history = []"
   ]
  },
  {
   "cell_type": "code",
   "execution_count": 4,
   "id": "276bc495",
   "metadata": {},
   "outputs": [],
   "source": [
    "for i in range(N_DAYS):\n",
    "    for l in Ordered_Lib:\n",
    "        lib_id = l.id\n",
    "        BOOKS = []\n",
    "        while len(BOOKS) < l.n_scans:\n",
    "            if len(l.book_list) > 0:\n",
    "                book = l.book_list.pop(0)\n",
    "                while book in bucket and len(l.book_list) > 0:\n",
    "                    book = l.book_list.pop(0)\n",
    "                BOOKS.append(book)\n",
    "        for book in BOOKS:\n",
    "            bucket.add(book)\n",
    "            history.append((i, lib_id, book[0], book[1]))\n",
    "\n",
    "import pandas as pd\n",
    "df = pd.DataFrame(history, columns=['day', 'library', 'book', 'value'])\n",
    "\n"
   ]
  },
  {
   "cell_type": "code",
   "execution_count": 7,
   "id": "c3b76091",
   "metadata": {},
   "outputs": [
    {
     "data": {
      "text/plain": [
       "11534271"
      ]
     },
     "execution_count": 7,
     "metadata": {},
     "output_type": "execute_result"
    }
   ],
   "source": [
    "df['value'].sum()"
   ]
  },
  {
   "cell_type": "code",
   "execution_count": null,
   "id": "c923c719",
   "metadata": {},
   "outputs": [],
   "source": []
  }
 ],
 "metadata": {
  "kernelspec": {
   "display_name": "Python 3 (ipykernel)",
   "language": "python",
   "name": "python3"
  },
  "language_info": {
   "codemirror_mode": {
    "name": "ipython",
    "version": 3
   },
   "file_extension": ".py",
   "mimetype": "text/x-python",
   "name": "python",
   "nbconvert_exporter": "python",
   "pygments_lexer": "ipython3",
   "version": "3.9.9"
  }
 },
 "nbformat": 4,
 "nbformat_minor": 5
}
