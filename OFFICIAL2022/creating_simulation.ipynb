{
 "cells": [
  {
   "cell_type": "code",
   "execution_count": null,
   "metadata": {},
   "outputs": [],
   "source": [
    "def check_team(project_roles_levels, team):\n",
    "    for role, team_member in zip(project_roles_levels, team):\n",
    "        skill_name = role[0]\n",
    "        skill_level = role[1]\n",
    "        \n",
    "        team_member_skill_level = team_member.skills.get(skill_name, 0)\n",
    "\n",
    "        if team_member_skill_level < skill_level-1:\n",
    "            return False\n",
    "        if team_member_skill_level == skill_level-1:\n",
    "            has_mentor = False\n",
    "            for other_member in team:\n",
    "                if other_member.skills.get(skill_name, 0) >= skill_level:\n",
    "                    has_mentor = True\n",
    "                    break\n",
    "            if not has_mentor:\n",
    "                return False\n",
    "    return True\n",
    "\n",
    "def team_exists(project_roles_levels, role_index = 0, team = []):\n",
    "    if role_index == 0:\n",
    "        team = []\n",
    "    \"\"\"\n",
    "    project_roles_levels : list[tuple]\n",
    "    e.g. [('HTML', 3), ('C++', 2)]\n",
    "\n",
    "    role_index : int\n",
    "    index of the role in recursion that we're currently trying to fill\n",
    "\n",
    "    team : list(contributors)\n",
    "    The current team that we've assembled so far.\n",
    "    \"\"\"\n",
    "    if role_index >= len(project_roles_levels):\n",
    "        valid_team = check_team(project_roles_levels, team)\n",
    "        if valid_team:\n",
    "            return team\n",
    "        else:\n",
    "            return []\n",
    "    else:\n",
    "        skill_name = project_roles_levels[role_index][0]\n",
    "        skill_level = project_roles_levels[role_index][1]\n",
    "        # add someone to the team who is capable or could use a mentor.\n",
    "        possible_members = [x for x in current_simulation.contributors if x.name in current_simulation.free_contributors and\n",
    "                            x.skills.get(skill_name, 0) >= skill_level-1]\n",
    "        for  member in possible_members:\n",
    "            team.append(member)\n",
    "            if team_exists(project_roles_levels, role_index+1, team):\n",
    "                return team\n",
    "            team.pop()\n",
    "        return []\n",
    "\n",
    "\n",
    "\n",
    "# IDEA : Shuffle projects at the start to assign to different projects before one another."
   ]
  }
 ],
 "metadata": {
  "interpreter": {
   "hash": "45a7512191f151264bb2c125b5b0914da3cf336384e319cf889a81436843bcec"
  },
  "kernelspec": {
   "display_name": "Python 3.9.10 64-bit (windows store)",
   "language": "python",
   "name": "python3"
  },
  "language_info": {
   "name": "python",
   "version": "3.9.10"
  },
  "orig_nbformat": 4
 },
 "nbformat": 4,
 "nbformat_minor": 2
}
