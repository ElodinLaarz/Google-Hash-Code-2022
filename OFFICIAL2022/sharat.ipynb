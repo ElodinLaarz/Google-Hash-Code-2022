{
 "cells": [
  {
   "cell_type": "code",
   "execution_count": 1,
   "metadata": {},
   "outputs": [],
   "source": [
    "from parser import Parser"
   ]
  },
  {
   "cell_type": "code",
   "execution_count": 2,
   "metadata": {},
   "outputs": [],
   "source": [
    "class Submission:\n",
    "    def __init__(self, project_name: str, contributors: list, submissions: list, parser: Parser, day: int = 0, msg: bool = True) -> None:\n",
    "        self.parser = parser\n",
    "        for project_context in self.parser.projects:\n",
    "            if project_context.name == project_name:\n",
    "                self.context = project_context\n",
    "\n",
    "        self.project_name = project_name\n",
    "        self.past_submissions = submissions[::-1]\n",
    "        self.people_assigned = contributors\n",
    "        self.day = day\n",
    "        self.days_to_complete = self.context.duration\n",
    "        self.best_before = self.context.best_before\n",
    "        self.max_score = self.context.score\n",
    "        self.all_contributors = self.parser.contributors\n",
    "        self.msg = msg\n",
    "\n",
    "    def get_contributor_details(self) -> dict:\n",
    "        contribs = {}\n",
    "        for person in self.people_assigned:\n",
    "            for contributor in self.all_contributors:\n",
    "                if person == contributor.name:\n",
    "                    contribs[person] = contributor\n",
    "        return contribs\n",
    "\n",
    "    def get_new_contributors(self) -> set:\n",
    "        need_to_check = set(self.people_assigned)\n",
    "        for project in self.past_submissions:\n",
    "            need_to_check -= set(project.people_assigned)\n",
    "        return need_to_check\n",
    "\n",
    "    def is_everyone_available(self) -> bool:\n",
    "        need_to_check = set(self.people_assigned)\n",
    "        need_to_check -= self.get_new_contributors()\n",
    "        people_seen = set()\n",
    "        for project in self.past_submissions:\n",
    "            if project.day_completed <= self.day:\n",
    "                #print(project.people_assigned,'BBBB')\n",
    "                need_to_check -= (set(project.people_assigned) - people_seen)\n",
    "            people_seen = people_seen | set(project.people_assigned)\n",
    "        if len(need_to_check) > 0:\n",
    "            #print(need_to_check)\n",
    "            return False\n",
    "        return True\n",
    "    \n",
    "    def level_up(self) -> dict:\n",
    "        details = self.get_contributor_details()\n",
    "        for project in self.past_submissions[::-1]:\n",
    "            for person in self.people_assigned:\n",
    "                if person in project.people_assigned:\n",
    "                    person_skills = details[person].skills\n",
    "                    job_skills = dict(project.context.roles)\n",
    "                    skill_to_upgrade = project.context.roles[project.people_assigned.index(person)][0] #just in case a person has multiple skills usable in the same project, but is assigned to one\n",
    "                    skill_diff = person_skills[skill_to_upgrade] - job_skills[skill_to_upgrade]\n",
    "                    if skill_diff == 0 or skill_diff == -1:\n",
    "                        details[person].skills[skill_to_upgrade] += 1\n",
    "        return details\n",
    "\n",
    "    def is_everyone_leveled(self) -> bool:\n",
    "        details = self.level_up()\n",
    "        for role, person in zip(self.context.roles, self.people_assigned):\n",
    "            if not (details[person].skills[role[0]] >= role[1]-1):\n",
    "                if self.msg:\n",
    "                    raise ValueError(f'Contributors in project {self.project_name} not leveled enough')\n",
    "                return False\n",
    "            if details[person].skills[role[0]] == role[1]-1:\n",
    "                if all([(details[other_person].skills.get(role[0],0) < role[1]) for other_person in self.people_assigned if person != other_person]):\n",
    "                    if self.msg:\n",
    "                        raise ValueError(f'{person} in project {self.project_name} not leveled enough in {role[0]} [Needed Level {role[1]}, Had Level {details[person].skills[role[0]]}]')\n",
    "                    return False\n",
    "        return True\n",
    "    \n",
    "    def day_start(self) -> None:\n",
    "        while not self.is_everyone_available():\n",
    "            self.day += 1\n",
    "\n",
    "    def get_day_completed(self) -> int:\n",
    "        self.day_completed = self.best_before\n",
    "        if self.is_everyone_leveled():\n",
    "            self.day_start()\n",
    "            self.day_completed = self.day + self.days_to_complete\n",
    "        return self.day_completed\n",
    "    \n",
    "    def penalty(self) -> int:\n",
    "        day_completed = self.get_day_completed()\n",
    "        return max(day_completed - self.best_before, 0)\n",
    "    \n",
    "    def score(self) -> int:\n",
    "        #print(f'penalty: {self.penalty()} day completed: {self.day_completed} best before: {self.best_before}')\n",
    "        return max(self.max_score - self.penalty(), 0)"
   ]
  },
  {
   "cell_type": "code",
   "execution_count": 9,
   "metadata": {},
   "outputs": [],
   "source": [
    "class Scorer:\n",
    "    def __init__(self, output_file='', input_file=''):\n",
    "        self.input = input_file\n",
    "        self.output = output_file\n",
    "        self.parser = Parser(self.input)\n",
    "    \n",
    "    def score(self):\n",
    "        with open(self.output,'r') as fp:\n",
    "            data = [x.strip() for x in fp.readlines() if x]\n",
    "        num_projects = data.pop(0)\n",
    "        submissions = []\n",
    "        score = 0\n",
    "        for i in range(0, len(data), 2):\n",
    "            project_name, contributors = data[i:i+2]\n",
    "            contributors = contributors.split(' ')\n",
    "            submission = Submission(project_name, contributors, submissions, self.parser)\n",
    "            score += submission.score()\n",
    "            submissions.append(submission)\n",
    "        return score"
   ]
  },
  {
   "cell_type": "code",
   "execution_count": 10,
   "metadata": {},
   "outputs": [
    {
     "ename": "ValueError",
     "evalue": "HiroshiF in project ChromecastXv8 not leveled enough in CloudComputing-NET [Needed Level 7, Had Level 6]",
     "output_type": "error",
     "traceback": [
      "\u001b[0;31m---------------------------------------------------------------------------\u001b[0m",
      "\u001b[0;31mValueError\u001b[0m                                Traceback (most recent call last)",
      "Input \u001b[0;32mIn [10]\u001b[0m, in \u001b[0;36m<module>\u001b[0;34m\u001b[0m\n\u001b[1;32m      1\u001b[0m file_letter \u001b[38;5;241m=\u001b[39m \u001b[38;5;124m'\u001b[39m\u001b[38;5;124mb\u001b[39m\u001b[38;5;124m'\u001b[39m\n\u001b[1;32m      2\u001b[0m S \u001b[38;5;241m=\u001b[39m Scorer(\u001b[38;5;124mf\u001b[39m\u001b[38;5;124m'\u001b[39m\u001b[38;5;124m./outputs/\u001b[39m\u001b[38;5;132;01m{\u001b[39;00mfile_letter\u001b[38;5;132;01m}\u001b[39;00m\u001b[38;5;124m.out\u001b[39m\u001b[38;5;124m'\u001b[39m, \u001b[38;5;124mf\u001b[39m\u001b[38;5;124m'\u001b[39m\u001b[38;5;124m./inputs/\u001b[39m\u001b[38;5;132;01m{\u001b[39;00mfile_letter\u001b[38;5;132;01m}\u001b[39;00m\u001b[38;5;124m.in\u001b[39m\u001b[38;5;124m'\u001b[39m)\n\u001b[0;32m----> 3\u001b[0m \u001b[43mS\u001b[49m\u001b[38;5;241;43m.\u001b[39;49m\u001b[43mscore\u001b[49m\u001b[43m(\u001b[49m\u001b[43m)\u001b[49m\n",
      "Input \u001b[0;32mIn [9]\u001b[0m, in \u001b[0;36mScorer.score\u001b[0;34m(self)\u001b[0m\n\u001b[1;32m     15\u001b[0m     contributors \u001b[38;5;241m=\u001b[39m contributors\u001b[38;5;241m.\u001b[39msplit(\u001b[38;5;124m'\u001b[39m\u001b[38;5;124m \u001b[39m\u001b[38;5;124m'\u001b[39m)\n\u001b[1;32m     16\u001b[0m     submission \u001b[38;5;241m=\u001b[39m Submission(project_name, contributors, submissions, \u001b[38;5;28mself\u001b[39m\u001b[38;5;241m.\u001b[39mparser)\n\u001b[0;32m---> 17\u001b[0m     score \u001b[38;5;241m+\u001b[39m\u001b[38;5;241m=\u001b[39m \u001b[43msubmission\u001b[49m\u001b[38;5;241;43m.\u001b[39;49m\u001b[43mscore\u001b[49m\u001b[43m(\u001b[49m\u001b[43m)\u001b[49m\n\u001b[1;32m     18\u001b[0m     submissions\u001b[38;5;241m.\u001b[39mappend(submission)\n\u001b[1;32m     19\u001b[0m \u001b[38;5;28;01mreturn\u001b[39;00m score\n",
      "Input \u001b[0;32mIn [2]\u001b[0m, in \u001b[0;36mSubmission.score\u001b[0;34m(self)\u001b[0m\n\u001b[1;32m     88\u001b[0m \u001b[38;5;28;01mdef\u001b[39;00m \u001b[38;5;21mscore\u001b[39m(\u001b[38;5;28mself\u001b[39m) \u001b[38;5;241m-\u001b[39m\u001b[38;5;241m>\u001b[39m \u001b[38;5;28mint\u001b[39m:\n\u001b[1;32m     89\u001b[0m     \u001b[38;5;66;03m#print(f'penalty: {self.penalty()} day completed: {self.day_completed} best before: {self.best_before}')\u001b[39;00m\n\u001b[0;32m---> 90\u001b[0m     \u001b[38;5;28;01mreturn\u001b[39;00m \u001b[38;5;28mmax\u001b[39m(\u001b[38;5;28mself\u001b[39m\u001b[38;5;241m.\u001b[39mmax_score \u001b[38;5;241m-\u001b[39m \u001b[38;5;28;43mself\u001b[39;49m\u001b[38;5;241;43m.\u001b[39;49m\u001b[43mpenalty\u001b[49m\u001b[43m(\u001b[49m\u001b[43m)\u001b[49m, \u001b[38;5;241m0\u001b[39m)\n",
      "Input \u001b[0;32mIn [2]\u001b[0m, in \u001b[0;36mSubmission.penalty\u001b[0;34m(self)\u001b[0m\n\u001b[1;32m     84\u001b[0m \u001b[38;5;28;01mdef\u001b[39;00m \u001b[38;5;21mpenalty\u001b[39m(\u001b[38;5;28mself\u001b[39m) \u001b[38;5;241m-\u001b[39m\u001b[38;5;241m>\u001b[39m \u001b[38;5;28mint\u001b[39m:\n\u001b[0;32m---> 85\u001b[0m     day_completed \u001b[38;5;241m=\u001b[39m \u001b[38;5;28;43mself\u001b[39;49m\u001b[38;5;241;43m.\u001b[39;49m\u001b[43mget_day_completed\u001b[49m\u001b[43m(\u001b[49m\u001b[43m)\u001b[49m\n\u001b[1;32m     86\u001b[0m     \u001b[38;5;28;01mreturn\u001b[39;00m \u001b[38;5;28mmax\u001b[39m(day_completed \u001b[38;5;241m-\u001b[39m \u001b[38;5;28mself\u001b[39m\u001b[38;5;241m.\u001b[39mbest_before, \u001b[38;5;241m0\u001b[39m)\n",
      "Input \u001b[0;32mIn [2]\u001b[0m, in \u001b[0;36mSubmission.get_day_completed\u001b[0;34m(self)\u001b[0m\n\u001b[1;32m     77\u001b[0m \u001b[38;5;28;01mdef\u001b[39;00m \u001b[38;5;21mget_day_completed\u001b[39m(\u001b[38;5;28mself\u001b[39m) \u001b[38;5;241m-\u001b[39m\u001b[38;5;241m>\u001b[39m \u001b[38;5;28mint\u001b[39m:\n\u001b[1;32m     78\u001b[0m     \u001b[38;5;28mself\u001b[39m\u001b[38;5;241m.\u001b[39mday_completed \u001b[38;5;241m=\u001b[39m \u001b[38;5;28mself\u001b[39m\u001b[38;5;241m.\u001b[39mbest_before\n\u001b[0;32m---> 79\u001b[0m     \u001b[38;5;28;01mif\u001b[39;00m \u001b[38;5;28;43mself\u001b[39;49m\u001b[38;5;241;43m.\u001b[39;49m\u001b[43mis_everyone_leveled\u001b[49m\u001b[43m(\u001b[49m\u001b[43m)\u001b[49m:\n\u001b[1;32m     80\u001b[0m         \u001b[38;5;28mself\u001b[39m\u001b[38;5;241m.\u001b[39mday_start()\n\u001b[1;32m     81\u001b[0m         \u001b[38;5;28mself\u001b[39m\u001b[38;5;241m.\u001b[39mday_completed \u001b[38;5;241m=\u001b[39m \u001b[38;5;28mself\u001b[39m\u001b[38;5;241m.\u001b[39mday \u001b[38;5;241m+\u001b[39m \u001b[38;5;28mself\u001b[39m\u001b[38;5;241m.\u001b[39mdays_to_complete\n",
      "Input \u001b[0;32mIn [2]\u001b[0m, in \u001b[0;36mSubmission.is_everyone_leveled\u001b[0;34m(self)\u001b[0m\n\u001b[1;32m     67\u001b[0m         \u001b[38;5;28;01mif\u001b[39;00m \u001b[38;5;28mall\u001b[39m([(details[other_person]\u001b[38;5;241m.\u001b[39mskills\u001b[38;5;241m.\u001b[39mget(role[\u001b[38;5;241m0\u001b[39m],\u001b[38;5;241m0\u001b[39m) \u001b[38;5;241m<\u001b[39m role[\u001b[38;5;241m1\u001b[39m]) \u001b[38;5;28;01mfor\u001b[39;00m other_person \u001b[38;5;129;01min\u001b[39;00m \u001b[38;5;28mself\u001b[39m\u001b[38;5;241m.\u001b[39mpeople_assigned \u001b[38;5;28;01mif\u001b[39;00m person \u001b[38;5;241m!=\u001b[39m other_person]):\n\u001b[1;32m     68\u001b[0m             \u001b[38;5;28;01mif\u001b[39;00m \u001b[38;5;28mself\u001b[39m\u001b[38;5;241m.\u001b[39mmsg:\n\u001b[0;32m---> 69\u001b[0m                 \u001b[38;5;28;01mraise\u001b[39;00m \u001b[38;5;167;01mValueError\u001b[39;00m(\u001b[38;5;124mf\u001b[39m\u001b[38;5;124m'\u001b[39m\u001b[38;5;132;01m{\u001b[39;00mperson\u001b[38;5;132;01m}\u001b[39;00m\u001b[38;5;124m in project \u001b[39m\u001b[38;5;132;01m{\u001b[39;00m\u001b[38;5;28mself\u001b[39m\u001b[38;5;241m.\u001b[39mproject_name\u001b[38;5;132;01m}\u001b[39;00m\u001b[38;5;124m not leveled enough in \u001b[39m\u001b[38;5;132;01m{\u001b[39;00mrole[\u001b[38;5;241m0\u001b[39m]\u001b[38;5;132;01m}\u001b[39;00m\u001b[38;5;124m [Needed Level \u001b[39m\u001b[38;5;132;01m{\u001b[39;00mrole[\u001b[38;5;241m1\u001b[39m]\u001b[38;5;132;01m}\u001b[39;00m\u001b[38;5;124m, Had Level \u001b[39m\u001b[38;5;132;01m{\u001b[39;00mdetails[person]\u001b[38;5;241m.\u001b[39mskills[role[\u001b[38;5;241m0\u001b[39m]]\u001b[38;5;132;01m}\u001b[39;00m\u001b[38;5;124m]\u001b[39m\u001b[38;5;124m'\u001b[39m)\n\u001b[1;32m     70\u001b[0m             \u001b[38;5;28;01mreturn\u001b[39;00m \u001b[38;5;28;01mFalse\u001b[39;00m\n\u001b[1;32m     71\u001b[0m \u001b[38;5;28;01mreturn\u001b[39;00m \u001b[38;5;28;01mTrue\u001b[39;00m\n",
      "\u001b[0;31mValueError\u001b[0m: HiroshiF in project ChromecastXv8 not leveled enough in CloudComputing-NET [Needed Level 7, Had Level 6]"
     ]
    }
   ],
   "source": [
    "file_letter = 'b'\n",
    "S = Scorer(f'./outputs/{file_letter}.out', f'./inputs/{file_letter}.in')\n",
    "S.score()"
   ]
  },
  {
   "cell_type": "code",
   "execution_count": null,
   "metadata": {},
   "outputs": [],
   "source": []
  }
 ],
 "metadata": {
  "interpreter": {
   "hash": "d4d1e4263499bec80672ea0156c357c1ee493ec2b1c70f0acce89fc37c4a6abe"
  },
  "kernelspec": {
   "display_name": "Python 3.9.7 64-bit ('base': conda)",
   "language": "python",
   "name": "python3"
  },
  "language_info": {
   "codemirror_mode": {
    "name": "ipython",
    "version": 3
   },
   "file_extension": ".py",
   "mimetype": "text/x-python",
   "name": "python",
   "nbconvert_exporter": "python",
   "pygments_lexer": "ipython3",
   "version": "3.9.7"
  },
  "orig_nbformat": 4
 },
 "nbformat": 4,
 "nbformat_minor": 2
}
