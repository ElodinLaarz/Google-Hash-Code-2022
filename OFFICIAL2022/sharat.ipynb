{
 "cells": [
  {
   "cell_type": "code",
   "execution_count": 2,
   "metadata": {},
   "outputs": [],
   "source": [
    "from parser import Parser"
   ]
  },
  {
   "cell_type": "code",
   "execution_count": 15,
   "metadata": {},
   "outputs": [],
   "source": [
    "class Submission:\n",
    "    def __init__(self, project_name: str, people_assigned: list, past_submissions: list, parser: Parser, day: int = 0, msg: bool = True) -> None:\n",
    "        self.parser = parser\n",
    "        for project_context in self.parser.projects:\n",
    "            if project_context.name == project_name:\n",
    "                self.context = project_context\n",
    "\n",
    "        self.project_name = project_name\n",
    "        self.past_submissions = past_submissions[::-1]\n",
    "        self.people_assigned = people_assigned\n",
    "        self.day = day\n",
    "        self.days_to_complete = self.context.duration\n",
    "        self.best_before = self.context.best_before\n",
    "        self.max_score = self.context.score\n",
    "        self.all_contributors = self.parser.contributors\n",
    "        self.msg = msg\n",
    "    \n",
    "    def __str__(self) -> str:\n",
    "        return f'Submission(project_name = \"{self.project_name}\", people_assigned = {self.people_assigned}, past_submissions = {self.past_submissions}, day = {self.day})'\n",
    "\n",
    "    def get_contributor_details(self) -> dict:\n",
    "        contribs = {}\n",
    "        for person in self.people_assigned:\n",
    "            for contributor in self.all_contributors:\n",
    "                if person == contributor.name:\n",
    "                    contribs[person] = contributor\n",
    "        return contribs\n",
    "\n",
    "    def get_new_contributors(self) -> set:\n",
    "        need_to_check = set(self.people_assigned)\n",
    "        for project in self.past_submissions:\n",
    "            need_to_check -= set(project.people_assigned)\n",
    "        return need_to_check\n",
    "\n",
    "    def is_everyone_available(self) -> bool:\n",
    "        need_to_check = set(self.people_assigned)\n",
    "        need_to_check -= self.get_new_contributors()\n",
    "        people_seen = set()\n",
    "        for project in self.past_submissions:\n",
    "            if project.day_completed <= self.day:\n",
    "                #print(project.people_assigned,'BBBB')\n",
    "                need_to_check -= (set(project.people_assigned) - people_seen)\n",
    "            people_seen = people_seen | set(project.people_assigned)\n",
    "        if len(need_to_check) > 0:\n",
    "            #print(need_to_check)\n",
    "            return False\n",
    "        return True\n",
    "    \n",
    "    def level_up(self) -> dict:\n",
    "        details = self.get_contributor_details()\n",
    "        for project in self.past_submissions[::-1]:\n",
    "            for person in self.people_assigned:\n",
    "                if person in project.people_assigned:\n",
    "                    person_skills = details[person].skills\n",
    "                    job_skills = dict(project.context.roles)\n",
    "                    skill_to_upgrade = project.context.roles[project.people_assigned.index(person)][0] #just in case a person has multiple skills usable in the same project, but is assigned to one\n",
    "                    skill_diff = person_skills[skill_to_upgrade] - job_skills[skill_to_upgrade]\n",
    "                    if skill_diff == 0 or skill_diff == -1:\n",
    "                        details[person].skills[skill_to_upgrade] += 1\n",
    "        return details\n",
    "\n",
    "    def is_everyone_leveled(self) -> bool:\n",
    "        details = self.level_up()\n",
    "        for role, person in zip(self.context.roles, self.people_assigned):\n",
    "            if not (details[person].skills[role[0]] >= role[1]-1):\n",
    "                if self.msg:\n",
    "                    raise ValueError(f'Contributors in project {self.project_name} not leveled enough')\n",
    "                return False\n",
    "            if details[person].skills[role[0]] == role[1]-1:\n",
    "                if all([(details[other_person].skills.get(role[0],0) < role[1]) for other_person in self.people_assigned if person != other_person]):\n",
    "                    if self.msg:\n",
    "                        raise ValueError(f'{person} in project {self.project_name} not leveled enough in {role[0]} [Needed Level {role[1]}, Had Level {details[person].skills[role[0]]}]')\n",
    "                    return False\n",
    "        return True\n",
    "    \n",
    "    def day_start(self) -> None:\n",
    "        while not self.is_everyone_available():\n",
    "            self.day += 1\n",
    "\n",
    "    def get_day_completed(self) -> int:\n",
    "        self.day_completed = self.best_before + self.max_score\n",
    "        if self.is_everyone_leveled():\n",
    "            self.day_start()\n",
    "            self.day_completed = self.day + self.days_to_complete\n",
    "        return self.day_completed\n",
    "    \n",
    "    def penalty(self) -> int:\n",
    "        day_completed = self.get_day_completed()\n",
    "        return max(day_completed - self.best_before, 0)\n",
    "    \n",
    "    def score(self) -> int:\n",
    "        #print(f'penalty: {self.penalty()} day completed: {self.day_completed} best before: {self.best_before}')\n",
    "        return max(self.max_score - self.penalty(), 0)"
   ]
  },
  {
   "cell_type": "code",
   "execution_count": 16,
   "metadata": {},
   "outputs": [],
   "source": [
    "class Scorer:\n",
    "    def __init__(self, output_file='', input_file=''):\n",
    "        self.input = input_file\n",
    "        self.output = output_file\n",
    "        self.parser = Parser(self.input)\n",
    "    \n",
    "    def score(self):\n",
    "        with open(self.output,'r') as fp:\n",
    "            data = [x.strip() for x in fp.readlines() if x]\n",
    "        num_projects = data.pop(0)\n",
    "        past_submissions = []\n",
    "        score = 0\n",
    "        for i in range(0, len(data), 2):\n",
    "            project_name, people_assigned = data[i:i+2]\n",
    "            people_assigned = people_assigned.split(' ')\n",
    "            submission = Submission(project_name, people_assigned, past_submissions, self.parser)\n",
    "            print(submission)\n",
    "            score += submission.score()\n",
    "            past_submissions.append(submission)\n",
    "        return score"
   ]
  },
  {
   "cell_type": "code",
   "execution_count": 17,
   "metadata": {},
   "outputs": [
    {
     "name": "stdout",
     "output_type": "stream",
     "text": [
      "Submission(project_name = \"WebServer\", people_assigned = ['Bob', 'Anna'], past_submissions = [], day = 0)\n",
      "Submission(project_name = \"Logging\", people_assigned = ['Anna'], past_submissions = [<__main__.Submission object at 0x7f3a4179bf10>], day = 0)\n",
      "Submission(project_name = \"WebChat\", people_assigned = ['Maria', 'Bob'], past_submissions = [<__main__.Submission object at 0x7f3a5008b6a0>, <__main__.Submission object at 0x7f3a4179bf10>], day = 0)\n"
     ]
    },
    {
     "data": {
      "text/plain": [
       "33"
      ]
     },
     "execution_count": 17,
     "metadata": {},
     "output_type": "execute_result"
    }
   ],
   "source": [
    "file_letter = 'a'\n",
    "S = Scorer(f'./outputs/{file_letter}.out', f'./inputs/{file_letter}.in')\n",
    "S.score()"
   ]
  },
  {
   "cell_type": "code",
   "execution_count": null,
   "metadata": {},
   "outputs": [],
   "source": []
  }
 ],
 "metadata": {
  "interpreter": {
   "hash": "d4d1e4263499bec80672ea0156c357c1ee493ec2b1c70f0acce89fc37c4a6abe"
  },
  "kernelspec": {
   "display_name": "Python 3.9.7 64-bit ('base': conda)",
   "language": "python",
   "name": "python3"
  },
  "language_info": {
   "codemirror_mode": {
    "name": "ipython",
    "version": 3
   },
   "file_extension": ".py",
   "mimetype": "text/x-python",
   "name": "python",
   "nbconvert_exporter": "python",
   "pygments_lexer": "ipython3",
   "version": "3.9.7"
  },
  "orig_nbformat": 4
 },
 "nbformat": 4,
 "nbformat_minor": 2
}
