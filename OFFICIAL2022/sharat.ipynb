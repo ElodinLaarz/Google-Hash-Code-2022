{
 "cells": [
  {
   "cell_type": "code",
   "execution_count": 5,
   "metadata": {},
   "outputs": [],
   "source": [
    "from dataclasses import dataclass\n",
    "from parser import Parser, Project"
   ]
  },
  {
   "cell_type": "code",
   "execution_count": 36,
   "metadata": {},
   "outputs": [],
   "source": [
    "@dataclass\n",
    "class Submission:\n",
    "    project_name: str\n",
    "    past_submissions: list\n",
    "    people_assigned: list\n",
    "    day: int\n",
    "    days_to_complete: int\n",
    "    best_before: int\n",
    "    max_score: int\n",
    "    context: Project\n",
    "    all_contributors: list\n",
    "    msg: bool = True\n",
    "\n",
    "    def get_contributor_details(self) -> dict:\n",
    "        contribs = {}\n",
    "        for person in self.people_assigned:\n",
    "            for contributor in self.all_contributors:\n",
    "                if person == contributor.name:\n",
    "                    contribs[person] = contributor\n",
    "        return contribs\n",
    "\n",
    "    def get_new_contributors(self) -> set:\n",
    "        need_to_check = set(self.people_assigned)\n",
    "        for project in self.past_submissions:\n",
    "            need_to_check -= set(project.people_assigned)\n",
    "        return need_to_check\n",
    "\n",
    "    def is_everyone_available(self) -> bool:\n",
    "        need_to_check = set(self.people_assigned)\n",
    "        need_to_check -= self.get_new_contributors()\n",
    "        people_seen = set()\n",
    "        for project in self.past_submissions:\n",
    "            if project.day_completed <= self.day:\n",
    "                #print(project.people_assigned,'BBBB')\n",
    "                need_to_check -= (set(project.people_assigned) - people_seen)\n",
    "            people_seen = people_seen | set(project.people_assigned)\n",
    "        if len(need_to_check) > 0:\n",
    "            #print(need_to_check)\n",
    "            return False\n",
    "        return True\n",
    "    \n",
    "    def level_up(self) -> dict:\n",
    "        details = self.get_contributor_details()\n",
    "        for project in self.past_submissions[::-1]:\n",
    "            for person in self.people_assigned:\n",
    "                if person in project.people_assigned:\n",
    "                    person_skills = details[person].skills\n",
    "                    job_skills = dict(project.context.roles)\n",
    "                    skill_to_upgrade = project.context.roles[project.people_assigned.index(person)][0] #just in case a person has multiple skills usable in the same project, but is assigned to one\n",
    "                    skill_diff = person_skills[skill_to_upgrade] - job_skills[skill_to_upgrade]\n",
    "                    if skill_diff == 0 or skill_diff == -1:\n",
    "                        details[person].skills[skill_to_upgrade] += 1\n",
    "        return details\n",
    "\n",
    "    def is_everyone_leveled(self) -> bool:\n",
    "        details = self.level_up()\n",
    "        for role, person in zip(self.context.roles, self.people_assigned):\n",
    "            if not (details[person].skills[role[0]] >= role[1]-1):\n",
    "                if self.msg:\n",
    "                    raise ValueError(f'Contributors in project {self.project_name} not leveled enough')\n",
    "                return False\n",
    "            if details[person].skills[role[0]] == role[1]-1:\n",
    "                if all([(details[other_person].skills.get(role[0],0) < role[1]) for other_person in self.people_assigned if person != other_person]):\n",
    "                    if self.msg:\n",
    "                        raise ValueError(f'{person} in project {self.project_name} not leveled enough in {role[0]} [Needed Level {role[1]}, Had Level {details[person].skills[role[0]]}]')\n",
    "                    return False\n",
    "        return True\n",
    "    \n",
    "    def day_start(self) -> None:\n",
    "        while not self.is_everyone_available():\n",
    "            self.day += 1\n",
    "\n",
    "    def get_day_completed(self) -> int:\n",
    "        self.day_completed = self.best_before\n",
    "        if self.is_everyone_leveled():\n",
    "            self.day_start()\n",
    "            self.day_completed = self.day + self.days_to_complete\n",
    "        return self.day_completed\n",
    "    \n",
    "    def penalty(self) -> int:\n",
    "        day_completed = self.get_day_completed()\n",
    "        return max(day_completed - self.best_before, 0)\n",
    "    \n",
    "    def score(self) -> int:\n",
    "        #print(f'penalty: {self.penalty()} day completed: {self.day_completed} best before: {self.best_before}')\n",
    "        return max(self.max_score - self.penalty(), 0)"
   ]
  },
  {
   "cell_type": "code",
   "execution_count": 41,
   "metadata": {},
   "outputs": [],
   "source": [
    "class Scorer:\n",
    "    def __init__(self, output_file, input_file):\n",
    "        self.input = input_file\n",
    "        self.output = output_file\n",
    "        self.A = Parser(self.input)\n",
    "    \n",
    "    def score(self):\n",
    "        with open(self.output,'r') as fp:\n",
    "            data = [x.strip() for x in fp.readlines() if x]\n",
    "        num_projects = data.pop(0)\n",
    "        all_contributors = self.A.contributors\n",
    "        submissions = []\n",
    "        score = 0\n",
    "        for i in range(0, len(data), 2):\n",
    "            project_name, contributors = data[i:i+2]\n",
    "            for p in self.A.projects:\n",
    "                if p.name == project_name:\n",
    "                    days_to_complete = p.duration\n",
    "                    day = 0\n",
    "                    best_before = p.best_before\n",
    "                    max_score = p.score\n",
    "                    project_context = p\n",
    "            \n",
    "            submission = Submission(project_name, submissions[::-1], contributors.split(' '), day, days_to_complete, best_before, max_score, project_context, all_contributors)\n",
    "            score += submission.score()\n",
    "            submissions.append(submission)\n",
    "        return score\n",
    "        "
   ]
  },
  {
   "cell_type": "code",
   "execution_count": 43,
   "metadata": {},
   "outputs": [
    {
     "data": {
      "text/plain": [
       "33"
      ]
     },
     "execution_count": 43,
     "metadata": {},
     "output_type": "execute_result"
    }
   ],
   "source": [
    "S = Scorer('./outputs/a.out', './inputs/a.in')\n",
    "S.score()"
   ]
  },
  {
   "cell_type": "code",
   "execution_count": null,
   "metadata": {},
   "outputs": [],
   "source": []
  }
 ],
 "metadata": {
  "interpreter": {
   "hash": "d4d1e4263499bec80672ea0156c357c1ee493ec2b1c70f0acce89fc37c4a6abe"
  },
  "kernelspec": {
   "display_name": "Python 3.9.7 64-bit ('base': conda)",
   "language": "python",
   "name": "python3"
  },
  "language_info": {
   "codemirror_mode": {
    "name": "ipython",
    "version": 3
   },
   "file_extension": ".py",
   "mimetype": "text/x-python",
   "name": "python",
   "nbconvert_exporter": "python",
   "pygments_lexer": "ipython3",
   "version": "3.9.7"
  },
  "orig_nbformat": 4
 },
 "nbformat": 4,
 "nbformat_minor": 2
}
