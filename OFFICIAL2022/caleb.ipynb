{
 "cells": [
  {
   "cell_type": "code",
   "execution_count": 1,
   "metadata": {},
   "outputs": [
    {
     "name": "stderr",
     "output_type": "stream",
     "text": [
      "C:\\Users\\caleb\\AppData\\Local\\Temp\\ipykernel_22040\\403772204.py:6: DeprecationWarning: The parser module is deprecated and will be removed in future versions of Python\n",
      "  from parser import Parser\n"
     ]
    },
    {
     "ename": "ImportError",
     "evalue": "cannot import name 'Parser' from 'parser' (unknown location)",
     "output_type": "error",
     "traceback": [
      "\u001b[1;31m---------------------------------------------------------------------------\u001b[0m",
      "\u001b[1;31mImportError\u001b[0m                               Traceback (most recent call last)",
      "\u001b[1;32mc:\\Users\\caleb\\Documents\\GitHub\\Google-Hash-Code-2022\\OFFICIAL2022\\caleb.ipynb Cell 1'\u001b[0m in \u001b[0;36m<module>\u001b[1;34m\u001b[0m\n\u001b[0;32m      <a href='vscode-notebook-cell:/c%3A/Users/caleb/Documents/GitHub/Google-Hash-Code-2022/OFFICIAL2022/caleb.ipynb#ch0000000?line=2'>3</a>\u001b[0m \u001b[39mfrom\u001b[39;00m \u001b[39mdataclasses\u001b[39;00m \u001b[39mimport\u001b[39;00m dataclass\n\u001b[0;32m      <a href='vscode-notebook-cell:/c%3A/Users/caleb/Documents/GitHub/Google-Hash-Code-2022/OFFICIAL2022/caleb.ipynb#ch0000000?line=4'>5</a>\u001b[0m \u001b[39mfrom\u001b[39;00m \u001b[39msimulation\u001b[39;00m \u001b[39mimport\u001b[39;00m Simulator\n\u001b[1;32m----> <a href='vscode-notebook-cell:/c%3A/Users/caleb/Documents/GitHub/Google-Hash-Code-2022/OFFICIAL2022/caleb.ipynb#ch0000000?line=5'>6</a>\u001b[0m \u001b[39mfrom\u001b[39;00m \u001b[39mparser\u001b[39;00m \u001b[39mimport\u001b[39;00m Parser\n\u001b[0;32m      <a href='vscode-notebook-cell:/c%3A/Users/caleb/Documents/GitHub/Google-Hash-Code-2022/OFFICIAL2022/caleb.ipynb#ch0000000?line=6'>7</a>\u001b[0m \u001b[39mfrom\u001b[39;00m \u001b[39mscorer\u001b[39;00m \u001b[39mimport\u001b[39;00m Score\n\u001b[0;32m     <a href='vscode-notebook-cell:/c%3A/Users/caleb/Documents/GitHub/Google-Hash-Code-2022/OFFICIAL2022/caleb.ipynb#ch0000000?line=9'>10</a>\u001b[0m \u001b[39m# @dataclass\u001b[39;00m\n\u001b[0;32m     <a href='vscode-notebook-cell:/c%3A/Users/caleb/Documents/GitHub/Google-Hash-Code-2022/OFFICIAL2022/caleb.ipynb#ch0000000?line=10'>11</a>\u001b[0m \u001b[39m# class Contributer:\u001b[39;00m\n\u001b[0;32m     <a href='vscode-notebook-cell:/c%3A/Users/caleb/Documents/GitHub/Google-Hash-Code-2022/OFFICIAL2022/caleb.ipynb#ch0000000?line=11'>12</a>\u001b[0m \u001b[39m#     name : str\u001b[39;00m\n\u001b[1;32m   (...)\u001b[0m\n\u001b[0;32m     <a href='vscode-notebook-cell:/c%3A/Users/caleb/Documents/GitHub/Google-Hash-Code-2022/OFFICIAL2022/caleb.ipynb#ch0000000?line=19'>20</a>\u001b[0m \u001b[39m#     best_before : int\u001b[39;00m\n\u001b[0;32m     <a href='vscode-notebook-cell:/c%3A/Users/caleb/Documents/GitHub/Google-Hash-Code-2022/OFFICIAL2022/caleb.ipynb#ch0000000?line=20'>21</a>\u001b[0m \u001b[39m#     roles : list # [tuples] (skill, rank_needed)\u001b[39;00m\n",
      "\u001b[1;31mImportError\u001b[0m: cannot import name 'Parser' from 'parser' (unknown location)"
     ]
    }
   ],
   "source": [
    "import shutil\n",
    "from collections import defaultdict\n",
    "from dataclasses import dataclass\n",
    "\n",
    "from simulation import Simulator\n",
    "from parser import Parser\n",
    "from scorer import Score\n",
    "\n",
    "\n",
    "# @dataclass\n",
    "# class Contributer:\n",
    "#     name : str\n",
    "#     skills : defaultdict # { skill : level }\n",
    "\n",
    "# @dataclass\n",
    "# class Project:\n",
    "#     name : str\n",
    "#     duration : int\n",
    "#     score : int\n",
    "#     best_before : int\n",
    "#     roles : list # [tuples] (skill, rank_needed)\n",
    "\n",
    "\n",
    "prefix = 'a'\n",
    "\n",
    "p = Parser('./inputs/' + prefix + '.in')\n",
    "\n",
    "current_simulation = Simulator(p.data(), prefix)\n",
    "\n",
    "while (current_simulation.time_remaining > 0):\n",
    "    current_simulation.time_step()\n",
    "\n",
    "current_simulation.create_output()"
   ]
  },
  {
   "cell_type": "code",
   "execution_count": 3,
   "metadata": {},
   "outputs": [
    {
     "data": {
      "text/plain": [
       "[2, 3]"
      ]
     },
     "execution_count": 3,
     "metadata": {},
     "output_type": "execute_result"
    }
   ],
   "source": [
    "A = [1,2,3]\n",
    "A[1:]"
   ]
  },
  {
   "cell_type": "code",
   "execution_count": null,
   "metadata": {},
   "outputs": [],
   "source": []
  }
 ],
 "metadata": {
  "interpreter": {
   "hash": "45a7512191f151264bb2c125b5b0914da3cf336384e319cf889a81436843bcec"
  },
  "kernelspec": {
   "display_name": "Python 3.9.10 64-bit (windows store)",
   "language": "python",
   "name": "python3"
  },
  "language_info": {
   "codemirror_mode": {
    "name": "ipython",
    "version": 3
   },
   "file_extension": ".py",
   "mimetype": "text/x-python",
   "name": "python",
   "nbconvert_exporter": "python",
   "pygments_lexer": "ipython3",
   "version": "3.9.10"
  },
  "orig_nbformat": 4
 },
 "nbformat": 4,
 "nbformat_minor": 2
}
