{
 "cells": [
  {
   "cell_type": "code",
   "execution_count": 1,
   "metadata": {},
   "outputs": [],
   "source": [
    "from dataclasses import dataclass\n",
    "import itertools as it\n",
    "from HashCode.parser_books import Parser"
   ]
  },
  {
   "cell_type": "code",
   "execution_count": 33,
   "metadata": {},
   "outputs": [],
   "source": [
    "input_file = './input/a.in'\n",
    "output_file = './output/a.out'\n",
    "A = Parser(input_file)\n",
    "A.parse()"
   ]
  },
  {
   "cell_type": "code",
   "execution_count": 34,
   "metadata": {},
   "outputs": [],
   "source": [
    "@dataclass\n",
    "class LibrarySubmission:\n",
    "    library: int\n",
    "    books_sent: int\n",
    "    books: list[int]\n",
    "\n",
    "    def signup_time(self) -> int:\n",
    "        return A.libraries[self.library].T\n",
    "\n",
    "    def books_per_day(self) -> int:\n",
    "        return A.libraries[self.library].M\n",
    "    \n",
    "    def book_scores(self, A) -> list[int]:\n",
    "        return map(lambda x: A.book_scores[x], self.books)"
   ]
  },
  {
   "cell_type": "code",
   "execution_count": 35,
   "metadata": {},
   "outputs": [],
   "source": [
    "def ScoreLibrary(lib, days_remaining=0):\n",
    "    days_remaining = days_remaining - lib.signup_time()\n",
    "    book_scores = lib.book_scores(A)\n",
    "    bpd = lib.books_per_day()\n",
    "    score = 0\n",
    "    for days in range(days_remaining):\n",
    "        score += sum(it.islice(book_scores, bpd))\n",
    "    return score"
   ]
  },
  {
   "cell_type": "code",
   "execution_count": 36,
   "metadata": {},
   "outputs": [],
   "source": [
    "def score(output):\n",
    "    with open(output,'r') as fp:\n",
    "        data = [x.strip() for x in fp.readlines() if x]\n",
    "    num_libraries = int(data.pop(0))\n",
    "    submission = []\n",
    "    seen = set()\n",
    "    for i in range(0, len(data), 2):\n",
    "        library, books_sent = *map(int,data[i].split(' ')),\n",
    "        if books_sent > 0 and not library in seen:\n",
    "            seen.add(library)\n",
    "            books = list(map(int, data[i+1].split(' ')))\n",
    "            submission.append(LibrarySubmission(library, books_sent, books))\n",
    "    \n",
    "    dr = A.D\n",
    "    score = 0\n",
    "    for library in submission:\n",
    "        score += ScoreLibrary(library, days_remaining=dr)\n",
    "        dr -= library.signup_time()\n",
    "    \n",
    "    return score"
   ]
  },
  {
   "cell_type": "code",
   "execution_count": 37,
   "metadata": {},
   "outputs": [
    {
     "data": {
      "text/plain": [
       "21"
      ]
     },
     "execution_count": 37,
     "metadata": {},
     "output_type": "execute_result"
    }
   ],
   "source": [
    "score(output_file)"
   ]
  },
  {
   "cell_type": "code",
   "execution_count": 38,
   "metadata": {},
   "outputs": [],
   "source": [
    "class Scorer:\n",
    "    def __init__(self, input_file='', output_file=''):\n",
    "        self.input = input_file\n",
    "        self.output = output_file\n",
    "        self.A = Parser(self.input)\n",
    "        self.A.parse()\n",
    "    \n",
    "    def ScoreLibrary(self, lib, days_remaining=0):\n",
    "        days_remaining = days_remaining - lib.signup_time()\n",
    "        book_scores = lib.book_scores(self.A)\n",
    "        bpd = lib.books_per_day()\n",
    "        score = 0\n",
    "        for days in range(days_remaining):\n",
    "            score += sum(it.islice(book_scores, bpd))\n",
    "        return score\n",
    "    \n",
    "    def score(self):\n",
    "        with open(self.output,'r') as fp:\n",
    "            data = [x.strip() for x in fp.readlines() if x]\n",
    "        num_libraries = int(data.pop(0))\n",
    "        submission = []\n",
    "        seen = set()\n",
    "        for i in range(0, len(data), 2):\n",
    "            library, books_sent = *map(int,data[i].split(' ')),\n",
    "            if books_sent > 0 and not library in seen:\n",
    "                seen.add(library)\n",
    "                books = list(map(int, data[i+1].split(' ')))\n",
    "                submission.append(LibrarySubmission(library, books_sent, books))\n",
    "        \n",
    "        dr = A.D\n",
    "        score = 0\n",
    "        for library in submission:\n",
    "            score += self.ScoreLibrary(library, days_remaining=dr)\n",
    "            dr -= library.signup_time()\n",
    "        return score\n",
    "        "
   ]
  },
  {
   "cell_type": "code",
   "execution_count": 39,
   "metadata": {},
   "outputs": [
    {
     "data": {
      "text/plain": [
       "21"
      ]
     },
     "execution_count": 39,
     "metadata": {},
     "output_type": "execute_result"
    }
   ],
   "source": [
    "S = Scorer(input_file='./input/a.in', output_file='./output/a.out')\n",
    "S.score()"
   ]
  },
  {
   "cell_type": "code",
   "execution_count": 3,
   "metadata": {},
   "outputs": [
    {
     "data": {
      "text/plain": [
       "4126100"
      ]
     },
     "execution_count": 3,
     "metadata": {},
     "output_type": "execute_result"
    }
   ],
   "source": [
    "from scorer import Scorer\n",
    "S = Scorer(input_file='./input/b.in', output_file='./output/b.out')\n",
    "S.score()"
   ]
  },
  {
   "cell_type": "code",
   "execution_count": null,
   "metadata": {},
   "outputs": [],
   "source": []
  }
 ],
 "metadata": {
  "interpreter": {
   "hash": "d4d1e4263499bec80672ea0156c357c1ee493ec2b1c70f0acce89fc37c4a6abe"
  },
  "kernelspec": {
   "display_name": "Python 3.9.7 64-bit ('base': conda)",
   "language": "python",
   "name": "python3"
  },
  "language_info": {
   "codemirror_mode": {
    "name": "ipython",
    "version": 3
   },
   "file_extension": ".py",
   "mimetype": "text/x-python",
   "name": "python",
   "nbconvert_exporter": "python",
   "pygments_lexer": "ipython3",
   "version": "3.9.7"
  },
  "orig_nbformat": 4
 },
 "nbformat": 4,
 "nbformat_minor": 2
}
