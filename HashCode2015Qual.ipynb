{
 "cells": [
  {
   "cell_type": "code",
   "execution_count": 28,
   "metadata": {},
   "outputs": [],
   "source": [
    "lines = open('dc.in', 'r').readlines()\n",
    "n_rows, n_cols, n_unavailable, n_pools, n_servers = [int(s) for s in lines[0].strip().split()]\n",
    "unavailable = [\n",
    "    [int(s) for s in line.strip().split()]\n",
    "    for line in lines[1: 1 + n_unavailable]\n",
    "]\n",
    "unavailable.sort(key = lambda x: 100 * x[0] + x[1])\n",
    "servers = [\n",
    "    [int(s) for s in line.strip().split()]\n",
    "    for line in lines[1 + n_unavailable : ]\n",
    "]\n",
    "servers.sort(key = lambda x: 1.0 * x[1] / x[0], reverse=True)\n",
    "rows_desc = dict()\n",
    "for row in range(16):\n",
    "    row_unav = [u for u in unavailable if u[0] == row]\n",
    "    row_desc = []\n",
    "    for i in range(len(row_unav)):\n",
    "        if i == 0:\n",
    "            row_desc.append([0, row_unav[0][1]])\n",
    "        else:\n",
    "            row_desc.append([row_unav[i-1][1] + 1, row_unav[i][1] - row_unav[i-1][1] - 1])\n",
    "    if row_unav[-1][1] != n_cols-1:\n",
    "        row_desc.append([row_unav[-1][1]+1, n_cols-row_unav[-1][1]])\n",
    "    rows_desc[row] = row_desc"
   ]
  },
  {
   "cell_type": "code",
   "execution_count": 32,
   "metadata": {},
   "outputs": [],
   "source": [
    "lines = open('dc.in', 'r').readlines()\n",
    "n_rows, n_cols, n_unavailable, n_pools, n_servers = [int(s) for s in lines[0].strip().split()]\n",
    "unavailable = [\n",
    "    [int(s) for s in line.strip().split()]\n",
    "    for line in lines[1: 1 + n_unavailable]\n",
    "]\n",
    "unavailable.sort(key = lambda x: 100 * x[0] + x[1])\n",
    "servers = [\n",
    "    [int(s) for s in line.strip().split()]\n",
    "    for line in lines[1 + n_unavailable : ]\n",
    "]\n",
    "servers = [[i] + servers[i] for i in range(len(servers))]\n",
    "servers.sort(key = lambda x: 1.0 * x[2] / x[1] * 1000 - x[1], reverse=True)\n",
    "\n",
    "rows_desc = dict()\n",
    "for row in range(n_rows):\n",
    "    row_unav = [u for u in unavailable if u[0] == row]\n",
    "    row_desc = []\n",
    "    for i in range(len(row_unav) + 1):\n",
    "        if i == 0:\n",
    "            if row_unav[0][1] != 0:\n",
    "                row_desc.append([0, row_unav[0][1]])\n",
    "        elif i != len(row_unav):\n",
    "            row_desc.append([row_unav[i-1][1] + 1, row_unav[i][1] - row_unav[i-1][1] - 1])\n",
    "        else:\n",
    "            if row_unav[-1][1] != 99:\n",
    "                row_desc.append([row_unav[-1][1] + 1, 98 - row_unav[-1][1] + 1])\n",
    "    rows_desc[row] = {\n",
    "        'row_unav': row_unav,\n",
    "        'row_desc': row_desc}\n"
   ]
  },
  {
   "cell_type": "code",
   "execution_count": 33,
   "metadata": {},
   "outputs": [
    {
     "data": {
      "text/plain": [
       "[[58, 1, 20],\n",
       " [136, 1, 20],\n",
       " [137, 1, 20],\n",
       " [285, 1, 20],\n",
       " [347, 1, 20],\n",
       " [432, 1, 20],\n",
       " [433, 1, 20],\n",
       " [2, 2, 40],\n",
       " [7, 2, 40],\n",
       " [34, 2, 40]]"
      ]
     },
     "execution_count": 33,
     "metadata": {},
     "output_type": "execute_result"
    }
   ],
   "source": [
    "servers[:10]"
   ]
  },
  {
   "cell_type": "code",
   "execution_count": 36,
   "metadata": {},
   "outputs": [
    {
     "data": {
      "text/plain": [
       "[[0, 10], [11, 29], [41, 1], [43, 4], [48, 3], [52, 21], [74, 26]]"
      ]
     },
     "execution_count": 36,
     "metadata": {},
     "output_type": "execute_result"
    }
   ],
   "source": [
    "rows_desc[0]['row_desc']"
   ]
  },
  {
   "cell_type": "code",
   "execution_count": 66,
   "metadata": {},
   "outputs": [
    {
     "name": "stdout",
     "output_type": "stream",
     "text": [
      "31\n",
      "Add server 2 to row 2 at slot 49 \n",
      "Add server 7 to row 3 at slot 19 \n",
      "Add server 8 to row 2 at slot 62 \n",
      "Add server 16 to row 0 at slot 41 \n",
      "Add server 34 to row 4 at slot 24 \n",
      "Add server 58 to row 0 at slot 0 \n",
      "Add server 66 to row 3 at slot 38 \n",
      "Add server 69 to row 0 at slot 43 \n",
      "Add server 86 to row 4 at slot 41 \n",
      "Add server 134 to row 1 at slot 40 \n",
      "Add server 135 to row 0 at slot 52 \n",
      "Add server 136 to row 1 at slot 0 \n",
      "Add server 137 to row 2 at slot 0 \n",
      "Add server 153 to row 1 at slot 55 \n",
      "Add server 219 to row 2 at slot 70 \n",
      "Add server 279 to row 2 at slot 51 \n",
      "Add server 285 to row 3 at slot 0 \n",
      "Add server 290 to row 3 at slot 26 \n",
      "Add server 321 to row 3 at slot 53 \n",
      "Add server 336 to row 4 at slot 45 \n",
      "Add server 347 to row 4 at slot 0 \n",
      "Add server 409 to row 0 at slot 74 \n",
      "Add server 410 to row 4 at slot 29 \n",
      "Add server 432 to row 0 at slot 11 \n",
      "Add server 433 to row 1 at slot 28 \n",
      "Add server 456 to row 1 at slot 62 \n",
      "Add server 458 to row 2 at slot 74 \n",
      "Add server 483 to row 3 at slot 58 \n",
      "Add server 486 to row 4 at slot 64 \n",
      "Add server 605 to row 0 at slot 48 \n",
      "Add server 615 to row 1 at slot 49 \n"
     ]
    }
   ],
   "source": [
    "# servers = []\n",
    "# row = [(index, size) for available spaces to put things]\n",
    "# rows = []\n",
    "lines = open('dc.in', 'r').readlines()\n",
    "n_rows, n_cols, n_unavailable, n_pools, n_servers = [int(s) for s in lines[0].strip().split()]\n",
    "unavailable = [\n",
    "    [int(s) for s in line.strip().split()]\n",
    "    for line in lines[1: 1 + n_unavailable]\n",
    "]\n",
    "unavailable.sort(key = lambda x: 100 * x[0] + x[1])\n",
    "servers = [\n",
    "    [int(s) for s in line.strip().split()]\n",
    "    for line in lines[1 + n_unavailable : ]\n",
    "]\n",
    "servers = [[i] + servers[i] for i in range(len(servers))]\n",
    "servers.sort(key = lambda x: 1.0 * x[2] / x[1] * 1000 - x[1], reverse=True)\n",
    "\n",
    "rows_desc = dict()\n",
    "for row in range(n_rows):\n",
    "    row_unav = [u for u in unavailable if u[0] == row]\n",
    "    row_desc = []\n",
    "    for i in range(len(row_unav) + 1):\n",
    "        if i == 0:\n",
    "            if row_unav[0][1] != 0:\n",
    "                row_desc.append([0, row_unav[0][1]])\n",
    "        elif i != len(row_unav):\n",
    "            row_desc.append([row_unav[i-1][1] + 1, row_unav[i][1] - row_unav[i-1][1] - 1])\n",
    "        else:\n",
    "            if row_unav[-1][1] != 99:\n",
    "                row_desc.append([row_unav[-1][1] + 1, 98 - row_unav[-1][1] + 1])\n",
    "    rows_desc[row] = {\n",
    "        'row_unav': row_unav,\n",
    "        'row_desc': row_desc}\n",
    "\n",
    "\n",
    "\n",
    "\n",
    "row_capacity = [0 for row in row_desc]\n",
    "\n",
    "solution = {}\n",
    "\n",
    "# Assume servers is sorted\n",
    "for _, server in enumerate(servers):\n",
    "    # Choose the current lowest capacity row\n",
    "    # no randomness yet-- just chooses the first minimum\n",
    "    row_index = row_capacity.index(min(row_capacity))\n",
    "    \n",
    "    cur_row = rows_desc[row_index]['row_desc']\n",
    "#     print(row_index, cur_row)\n",
    "    # Add the server to the row, if possible.\n",
    "    for i in range(len(cur_row)):\n",
    "        pair = cur_row[i]\n",
    "#         print('must be')\n",
    "        if pair[1] >= server[1]:\n",
    "#             print('here')\n",
    "            solution[server[0]] = f\"{row_index} {pair[0]} x\"\n",
    "            row_capacity[row_index] += server[2]\n",
    "            if pair[1] == server[0]:\n",
    "                del rows_desc[row_index]['row_desc'][i]\n",
    "            else:\n",
    "                rows_desc[row_index]['row_desc'][i][0] += server[0]\n",
    "                rows_desc[row_index]['row_desc'][i][1] -= server[0]\n",
    "            break\n",
    "#     if _ % 10 == 0:\n",
    "#         print(row_capacity)\n",
    "print(len(solution))\n",
    "\n",
    "for i in range(len(servers)):\n",
    "    if i in solution:\n",
    "        print(f\"Add server {i} to row {solution[i][0]} at slot {solution[i][2:-1]}\")"
   ]
  },
  {
   "cell_type": "code",
   "execution_count": null,
   "metadata": {},
   "outputs": [],
   "source": []
  }
 ],
 "metadata": {
  "kernelspec": {
   "display_name": "Python 3",
   "language": "python",
   "name": "python3"
  },
  "language_info": {
   "codemirror_mode": {
    "name": "ipython",
    "version": 3
   },
   "file_extension": ".py",
   "mimetype": "text/x-python",
   "name": "python",
   "nbconvert_exporter": "python",
   "pygments_lexer": "ipython3",
   "version": "3.8.5"
  }
 },
 "nbformat": 4,
 "nbformat_minor": 4
}
