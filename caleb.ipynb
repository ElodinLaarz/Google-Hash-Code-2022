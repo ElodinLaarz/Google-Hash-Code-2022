{
 "cells": [
  {
   "cell_type": "code",
   "execution_count": null,
   "id": "a57f1881-4e95-4ca3-a077-787282d21ca9",
   "metadata": {},
   "outputs": [],
   "source": [
    "\"\"\"\n",
    "days_remaining = ??\n",
    "\n",
    "signing_up_library = False\n",
    "days_until_signup_complete = 0\n",
    "libraries_to_scan = []\n",
    "\n",
    "solution = []\n",
    "\n",
    "def simulation():\n",
    "\n",
    "    if not signing_up_library:\n",
    "        new_library = choose_a_library()\n",
    "        days_until_signup_complete = new_library.sign_up_time\n",
    "        libraries_to_scan.append(new_library)\n",
    "        signing_up_library == True\n",
    "    \n",
    "    days_until_complete -= 1\n",
    "    scan_books()\n",
    "    \n",
    "    days_remaining -= 1\n",
    "\n",
    "\n",
    "solutions format :\n",
    "# Libraries to Signup\n",
    "LIBRARY_ID #Books to Scan\n",
    "BOOK_IDS in order\n",
    "\"\"\""
   ]
  },
  {
   "cell_type": "code",
   "execution_count": 17,
   "id": "fd5cc041-f29a-4596-86a3-dd9f02fe00c5",
   "metadata": {},
   "outputs": [
    {
     "data": {
      "text/plain": [
       "[('M', 1), ('N', 3), ('T', 2), ('books_ids', [78599, 65011, 10913]), ('finish_scaning', False), ('max_book_score', 65), ('n_books', 3), ('n_days', 2), ('n_scans', 1), ('total_score', 195)]"
      ]
     },
     "execution_count": 17,
     "metadata": {},
     "output_type": "execute_result"
    }
   ],
   "source": [
    "cur_file = 'd'\n",
    "\n",
    "from parser_books import Parser\n",
    "p = Parser(\"./input/\"+cur_file+\".in\")\n",
    "p.parse()\n",
    "p.libraries[29999]\n",
    "# p.libraries[0].books_ids = [0]\n"
   ]
  },
  {
   "cell_type": "code",
   "execution_count": 13,
   "id": "c88dfa14-a742-4394-a260-6a1882838530",
   "metadata": {
    "tags": []
   },
   "outputs": [],
   "source": [
    "from parser_books import Parser\n",
    "\n",
    "class LibrarySolution():\n",
    "    \n",
    "    def __init__(self, cur_file = 'a'):\n",
    "        self.cur_file = cur_file\n",
    "        p = Parser(\"./input/\" + cur_file + \".in\")\n",
    "        p.parse()\n",
    "        self.libraries = p.libraries\n",
    "        self.days_remaining = p.n_days\n",
    "        num_books = p.n_books\n",
    "        self.scanned_books = {}\n",
    "        for i in range(num_books):\n",
    "            self.scanned_books[i] = False\n",
    "        # self.signing_up_library = False\n",
    "        self.days_until_signup_complete = 0\n",
    "        # indices\n",
    "        self.libraries_to_scan = []\n",
    "        self.next_library_index = 0\n",
    "        \"\"\"\n",
    "        [\n",
    "        [original_library_index, [books_to_scan]]\n",
    "        ]\n",
    "        \"\"\"\n",
    "        self.solution = []\n",
    "\n",
    "    def scan(self):\n",
    "        for index, library_index in enumerate(self.libraries_to_scan):\n",
    "            library = self.libraries[library_index]\n",
    "            if not library.finish_scaning:\n",
    "                # library_original_index = library.INDEX\n",
    "                num_books_to_scan = library.n_scans\n",
    "                num_books_scanned = 0\n",
    "                # last_book_scanned = library.LAST_BOOK_SCANNED\n",
    "\n",
    "\n",
    "                books = library.books_ids\n",
    "\n",
    "                for book_index, book in enumerate(books):\n",
    "                    if not self.scanned_books[book]:\n",
    "                        self.solution[index][1].append(book)\n",
    "                        num_books_scanned += 1\n",
    "                        self.scanned_books[book] = True\n",
    "                        if num_books_scanned == num_books_to_scan:\n",
    "                            library.books_ids = books[book_index+1:]\n",
    "                            break\n",
    "\n",
    "                if num_books_scanned < num_books_to_scan:\n",
    "                    library.finish_scaning = True\n",
    "\n",
    "    def simulation_step(self):\n",
    "\n",
    "        if self.days_until_signup_complete == 0:\n",
    "            new_library_index = self.choose_a_library(self.cur_file == 'd')\n",
    "            new_library = self.libraries[new_library_index]\n",
    "            self.days_until_signup_complete = new_library.T\n",
    "            self.libraries_to_scan.append(new_library_index)\n",
    "            self.solution.append([new_library_index, []])\n",
    "\n",
    "\n",
    "        self.days_until_signup_complete -= 1\n",
    "        self.scan()\n",
    "\n",
    "        self.days_remaining -= 1\n",
    "\n",
    "    def choose_a_library(self, is_d):\n",
    "        if is_d:\n",
    "            index_1 = 2*self.next_library_index\n",
    "            index_2 = 2*self.next_library_index + 1\n",
    "            self.next_library_index += 1\n",
    "            if index_1 >= 30000 or index_2 >= 30000:\n",
    "                return 2*self.next_library_index%30000\n",
    "            library1 = self.libraries[index_1]\n",
    "            library2 = self.libraries[index_1]\n",
    "            if len(library1.books_ids) > len(library2.books_ids):\n",
    "                return index_1\n",
    "            else:\n",
    "                return index_2\n",
    "        else:\n",
    "            if (self.next_library_index < len(self.libraries)):\n",
    "                self.next_library_index += 1\n",
    "            return self.next_library_index -1\n",
    "\n",
    "    def print_solution(self):\n",
    "        with open('./output/' + self.cur_file + '.out', 'w') as f:\n",
    "            f.write(str(len(self.solution)) + '\\n')\n",
    "            for library in self.solution:\n",
    "                library_index = library[0]\n",
    "                library_books = library[1]\n",
    "                f.write(str(library_index) + ' ' + str(len(library_books)) + '\\n')\n",
    "                f.write(\" \".join(list(map(str, library_books))) + '\\n')"
   ]
  },
  {
   "cell_type": "code",
   "execution_count": 14,
   "id": "e0bbf9b2-ebb9-4f03-841e-749dccac66bf",
   "metadata": {},
   "outputs": [
    {
     "ename": "KeyError",
     "evalue": "30000",
     "output_type": "error",
     "traceback": [
      "\u001b[1;31m---------------------------------------------------------------------------\u001b[0m",
      "\u001b[1;31mKeyError\u001b[0m                                  Traceback (most recent call last)",
      "\u001b[1;32m~\\AppData\\Local\\Temp/ipykernel_15432/2486132537.py\u001b[0m in \u001b[0;36m<module>\u001b[1;34m\u001b[0m\n\u001b[0;32m      5\u001b[0m \u001b[1;33m\u001b[0m\u001b[0m\n\u001b[0;32m      6\u001b[0m     \u001b[1;32mwhile\u001b[0m\u001b[1;33m(\u001b[0m\u001b[0mlibrary_solution\u001b[0m\u001b[1;33m.\u001b[0m\u001b[0mdays_remaining\u001b[0m \u001b[1;33m>\u001b[0m \u001b[1;36m0\u001b[0m\u001b[1;33m)\u001b[0m\u001b[1;33m:\u001b[0m\u001b[1;33m\u001b[0m\u001b[1;33m\u001b[0m\u001b[0m\n\u001b[1;32m----> 7\u001b[1;33m         \u001b[0mlibrary_solution\u001b[0m\u001b[1;33m.\u001b[0m\u001b[0msimulation_step\u001b[0m\u001b[1;33m(\u001b[0m\u001b[1;33m)\u001b[0m\u001b[1;33m\u001b[0m\u001b[1;33m\u001b[0m\u001b[0m\n\u001b[0m\u001b[0;32m      8\u001b[0m \u001b[1;33m\u001b[0m\u001b[0m\n\u001b[0;32m      9\u001b[0m     \u001b[0mlibrary_solution\u001b[0m\u001b[1;33m.\u001b[0m\u001b[0mprint_solution\u001b[0m\u001b[1;33m(\u001b[0m\u001b[1;33m)\u001b[0m\u001b[1;33m\u001b[0m\u001b[1;33m\u001b[0m\u001b[0m\n",
      "\u001b[1;32m~\\AppData\\Local\\Temp/ipykernel_15432/477261651.py\u001b[0m in \u001b[0;36msimulation_step\u001b[1;34m(self)\u001b[0m\n\u001b[0;32m     52\u001b[0m \u001b[1;33m\u001b[0m\u001b[0m\n\u001b[0;32m     53\u001b[0m         \u001b[1;32mif\u001b[0m \u001b[0mself\u001b[0m\u001b[1;33m.\u001b[0m\u001b[0mdays_until_signup_complete\u001b[0m \u001b[1;33m==\u001b[0m \u001b[1;36m0\u001b[0m\u001b[1;33m:\u001b[0m\u001b[1;33m\u001b[0m\u001b[1;33m\u001b[0m\u001b[0m\n\u001b[1;32m---> 54\u001b[1;33m             \u001b[0mnew_library_index\u001b[0m \u001b[1;33m=\u001b[0m \u001b[0mself\u001b[0m\u001b[1;33m.\u001b[0m\u001b[0mchoose_a_library\u001b[0m\u001b[1;33m(\u001b[0m\u001b[0mself\u001b[0m\u001b[1;33m.\u001b[0m\u001b[0mcur_file\u001b[0m \u001b[1;33m==\u001b[0m \u001b[1;34m'd'\u001b[0m\u001b[1;33m)\u001b[0m\u001b[1;33m\u001b[0m\u001b[1;33m\u001b[0m\u001b[0m\n\u001b[0m\u001b[0;32m     55\u001b[0m             \u001b[0mnew_library\u001b[0m \u001b[1;33m=\u001b[0m \u001b[0mself\u001b[0m\u001b[1;33m.\u001b[0m\u001b[0mlibraries\u001b[0m\u001b[1;33m[\u001b[0m\u001b[0mnew_library_index\u001b[0m\u001b[1;33m]\u001b[0m\u001b[1;33m\u001b[0m\u001b[1;33m\u001b[0m\u001b[0m\n\u001b[0;32m     56\u001b[0m             \u001b[0mself\u001b[0m\u001b[1;33m.\u001b[0m\u001b[0mdays_until_signup_complete\u001b[0m \u001b[1;33m=\u001b[0m \u001b[0mnew_library\u001b[0m\u001b[1;33m.\u001b[0m\u001b[0mT\u001b[0m\u001b[1;33m\u001b[0m\u001b[1;33m\u001b[0m\u001b[0m\n",
      "\u001b[1;32m~\\AppData\\Local\\Temp/ipykernel_15432/477261651.py\u001b[0m in \u001b[0;36mchoose_a_library\u001b[1;34m(self, is_d)\u001b[0m\n\u001b[0;32m     66\u001b[0m     \u001b[1;32mdef\u001b[0m \u001b[0mchoose_a_library\u001b[0m\u001b[1;33m(\u001b[0m\u001b[0mself\u001b[0m\u001b[1;33m,\u001b[0m \u001b[0mis_d\u001b[0m\u001b[1;33m)\u001b[0m\u001b[1;33m:\u001b[0m\u001b[1;33m\u001b[0m\u001b[1;33m\u001b[0m\u001b[0m\n\u001b[0;32m     67\u001b[0m         \u001b[1;32mif\u001b[0m \u001b[0mis_d\u001b[0m\u001b[1;33m:\u001b[0m\u001b[1;33m\u001b[0m\u001b[1;33m\u001b[0m\u001b[0m\n\u001b[1;32m---> 68\u001b[1;33m             \u001b[0mlibrary1\u001b[0m \u001b[1;33m=\u001b[0m \u001b[0mself\u001b[0m\u001b[1;33m.\u001b[0m\u001b[0mlibraries\u001b[0m\u001b[1;33m[\u001b[0m\u001b[1;36m2\u001b[0m\u001b[1;33m*\u001b[0m\u001b[0mself\u001b[0m\u001b[1;33m.\u001b[0m\u001b[0mnext_library_index\u001b[0m\u001b[1;33m]\u001b[0m\u001b[1;33m\u001b[0m\u001b[1;33m\u001b[0m\u001b[0m\n\u001b[0m\u001b[0;32m     69\u001b[0m             \u001b[0mlibrary2\u001b[0m \u001b[1;33m=\u001b[0m \u001b[0mself\u001b[0m\u001b[1;33m.\u001b[0m\u001b[0mlibraries\u001b[0m\u001b[1;33m[\u001b[0m\u001b[1;36m2\u001b[0m\u001b[1;33m*\u001b[0m\u001b[0mself\u001b[0m\u001b[1;33m.\u001b[0m\u001b[0mnext_library_index\u001b[0m\u001b[1;33m+\u001b[0m\u001b[1;36m1\u001b[0m\u001b[1;33m]\u001b[0m\u001b[1;33m\u001b[0m\u001b[1;33m\u001b[0m\u001b[0m\n\u001b[0;32m     70\u001b[0m             \u001b[1;32mif\u001b[0m \u001b[0mlen\u001b[0m\u001b[1;33m(\u001b[0m\u001b[0mlibrary1\u001b[0m\u001b[1;33m.\u001b[0m\u001b[0mbooks_ids\u001b[0m\u001b[1;33m)\u001b[0m \u001b[1;33m>\u001b[0m \u001b[0mlen\u001b[0m\u001b[1;33m(\u001b[0m\u001b[0mlibrary2\u001b[0m\u001b[1;33m.\u001b[0m\u001b[0mbooks_ids\u001b[0m\u001b[1;33m)\u001b[0m\u001b[1;33m:\u001b[0m\u001b[1;33m\u001b[0m\u001b[1;33m\u001b[0m\u001b[0m\n",
      "\u001b[1;31mKeyError\u001b[0m: 30000"
     ]
    }
   ],
   "source": [
    "file_names = ['a', 'b', 'c','d', 'e', 'f']\n",
    "\n",
    "for file_name in file_names:\n",
    "    library_solution = LibrarySolution(file_name)\n",
    "\n",
    "    while(library_solution.days_remaining > 0):\n",
    "        library_solution.simulation_step()\n",
    "\n",
    "    library_solution.print_solution()"
   ]
  },
  {
   "cell_type": "code",
   "execution_count": 8,
   "id": "d336d2c1-050f-4fdb-b54f-3e769ced51c0",
   "metadata": {},
   "outputs": [
    {
     "name": "stdout",
     "output_type": "stream",
     "text": [
      "[2, 3]\n",
      "1\n",
      "2\n",
      "3\n",
      "[1, 2]\n"
     ]
    }
   ],
   "source": [
    "A = [1,2,3]\n",
    "print(A[1:])\n",
    "for i, a in enumerate(A):\n",
    "    if i == 2:\n",
    "        A.pop(i)\n",
    "    print(a)\n",
    "print(A)"
   ]
  },
  {
   "cell_type": "code",
   "execution_count": 3,
   "id": "013e11fb-90c5-480f-bf2c-1d9f2071231d",
   "metadata": {},
   "outputs": [
    {
     "data": {
      "text/plain": [
       "2"
      ]
     },
     "execution_count": 3,
     "metadata": {},
     "output_type": "execute_result"
    }
   ],
   "source": [
    "A.pop()"
   ]
  },
  {
   "cell_type": "code",
   "execution_count": null,
   "id": "1410a76c-1148-419a-938a-df2b569a5798",
   "metadata": {},
   "outputs": [],
   "source": []
  }
 ],
 "metadata": {
  "kernelspec": {
   "display_name": "Python 3 (ipykernel)",
   "language": "python",
   "name": "python3"
  },
  "language_info": {
   "codemirror_mode": {
    "name": "ipython",
    "version": 3
   },
   "file_extension": ".py",
   "mimetype": "text/x-python",
   "name": "python",
   "nbconvert_exporter": "python",
   "pygments_lexer": "ipython3",
   "version": "3.8.5"
  }
 },
 "nbformat": 4,
 "nbformat_minor": 5
}
