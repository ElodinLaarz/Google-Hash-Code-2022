{
 "cells": [
  {
   "cell_type": "code",
   "execution_count": 20,
   "id": "284a1d14-420c-4a3d-b234-620048afeb28",
   "metadata": {},
   "outputs": [
    {
     "data": {
      "text/plain": [
       "[('M', 9), ('N', 556), ('T', 87), ('books_ids', [56471, 83619, 78398, 971, 63644, 39055, 22883, 50289, 49145, 6669, 42528, 94353, 22541, 21489, 33242, 46812, 72606, 2438, 81452, 77021, 56805, 30537, 2018, 50068, 53767, 18297, 99469, 96017, 45937, 52729, 46026, 68412, 14288, 87790, 82470, 75376, 29919, 90549, 41454, 57922, 88370, 26560, 99236, 48666, 31255, 39211, 58975, 1210, 42973, 61043, 10671, 28469, 55345, 75759, 29571, 2321, 70579, 83860, 83446, 73105, 3372, 59168, 62331, 64365, 86371, 49886, 98768, 50248, 7131, 60529, 38528, 40345, 28648, 50624, 29682, 68813, 20915, 55694, 13946, 21396, 94094, 96586, 79269, 62507, 88160, 64399, 59649, 82258, 81446, 52881, 72417, 95371, 19138, 15420, 65744, 89815, 69694, 59559, 34734, 98434, 16831, 44035, 10509, 54414, 8925, 78598, 90950, 26935, 51313, 55115, 21380, 18709, 65748, 59859, 82886, 51284, 66997, 49100, 39336, 33626, 4637, 65975, 21222, 67919, 32750, 67795, 20209, 32934, 97451, 66253, 78364, 91410, 64506, 64308, 45242, 54730, 49112, 8765, 30015, 31342, 44659, 87711, 92136, 41002, 45783, 84179, 4463, 77389, 10711, 98670, 77403, 40591, 14602, 22337, 88323, 8070, 66043, 22695, 68378, 21360, 7451, 41548, 32554, 32146, 94673, 79009, 23499, 29642, 82118, 38290, 23190, 2872, 22106, 70191, 74944, 53246, 88388, 87374, 82813, 68766, 54265, 72785, 48868, 17934, 90351, 34736, 42841, 96469, 47354, 64413, 13381, 80203, 47802, 36651, 38057, 35607, 29381, 20350, 53466, 41641, 33, 57870, 74480, 32001, 76657, 37413, 63109, 18139, 17509, 78340, 93589, 53810, 80362, 57061, 19855, 30889, 17477, 7079, 49495, 10769, 18614, 62063, 15884, 2580, 99744, 30142, 94773, 30013, 57613, 8199, 96645, 70085, 29417, 92699, 92063, 10188, 85497, 42744, 20872, 68765, 51812, 90975, 25223, 86369, 63993, 30143, 37409, 33512, 92228, 89379, 90063, 47368, 88675, 13260, 5271, 83307, 41876, 47344, 27005, 99464, 74406, 19108, 77632, 32270, 80378, 55320, 78277, 31422, 94866, 59816, 97557, 67978, 62118, 45773, 69552, 92506, 15976, 61822, 85003, 69101, 64850, 47912, 11173, 49135, 72973, 36288, 56315, 35003, 59088, 60655, 70242, 92915, 28115, 46884, 47278, 25786, 39763, 69597, 53868, 61362, 11209, 26244, 40076, 74433, 35821, 55912, 40900, 43542, 50204, 33409, 85892, 30075, 56483, 37804, 24181, 40074, 73008, 64731, 63783, 46406, 74084, 7977, 6504, 24165, 61656, 18545, 21851, 57522, 66281, 62471, 11451, 93038, 26690, 25284, 81985, 22227, 76206, 60340, 75366, 57211, 16355, 66266, 77723, 28371, 93965, 38256, 65364, 2609, 6267, 94501, 65626, 27677, 97007, 41106, 57747, 11610, 75627, 53747, 66220, 54089, 63820, 89587, 31850, 14859, 36895, 12569, 42519, 82883, 79597, 78112, 17234, 45944, 32737, 62534, 15938, 47309, 70802, 50966, 82753, 17147, 60866, 97970, 15721, 58940, 84428, 89913, 87606, 42573, 43869, 34129, 57722, 85, 15774, 77604, 11668, 86768, 59963, 9602, 56646, 89126, 87990, 34221, 18829, 50235, 45667, 54078, 61132, 98297, 30233, 87293, 52876, 62922, 22053, 86395, 18711, 78725, 33614, 92175, 66776, 54783, 10583, 97047, 17611, 6897, 28008, 10940, 79940, 10899, 48892, 10821, 43040, 49571, 55055, 16773, 57144, 14341, 10255, 17715, 44709, 56684, 94655, 92949, 89997, 20254, 74323, 50457, 57404, 99865, 28705, 55494, 50752, 24246, 75216, 87664, 57226, 97219, 8887, 69808, 55989, 64976, 79130, 44513, 70188, 86669, 13459, 23868, 37258, 15098, 94836, 73263, 95774, 70451, 14557, 25186, 95065, 67933, 25022, 73066, 19484, 28504, 31180, 37418, 22575, 17486, 27582, 88258, 85894, 97136, 7669, 99543, 21745, 20162, 25670, 93254, 31967, 99974, 40374, 35674, 46049, 43408, 34974, 12380, 66658, 97690, 53579, 97975, 47707, 36615, 82436, 48085, 90355, 36549, 27242, 50017, 97986, 96137, 95393, 82447, 56911, 48682, 32122, 91452, 16725, 15154, 16802, 45226, 43932, 82732, 42233, 96176, 13337, 27403, 75714, 37072, 11473, 58418, 24149, 74010, 9992, 99805, 45836, 75246, 85860, 6310, 4568, 71197, 97196, 12496, 24346, 15306, 14906, 70036, 21430, 64443, 42851, 3183]), ('finish_scaning', False), ('id', 1), ('max_book_score', 796), ('n_books', 556), ('n_days', 87), ('n_scans', 9), ('total_score', 221895)]"
      ]
     },
     "execution_count": 20,
     "metadata": {},
     "output_type": "execute_result"
    }
   ],
   "source": [
    "from parser_books import Parser\n",
    "p = Parser('./input/f.in')\n",
    "p.parse()\n",
    "p.libraries[1]"
   ]
  },
  {
   "cell_type": "code",
   "execution_count": 14,
   "id": "c88dfa14-a742-4394-a260-6a1882838530",
   "metadata": {
    "tags": []
   },
   "outputs": [],
   "source": [
    "from parser_books import Parser\n",
    "\n",
    "class LibrarySolution():\n",
    "    \n",
    "    def __init__(self, cur_file = 'a'):\n",
    "        self.cur_file = cur_file\n",
    "        p = Parser(\"./input/\" + cur_file + \".in\")\n",
    "        p.parse()\n",
    "        self.libraries = p.libraries\n",
    "        self.days_remaining = p.n_days\n",
    "        num_books = p.n_books\n",
    "        self.scanned_books = {}\n",
    "        for i in range(num_books):\n",
    "            self.scanned_books[i] = False\n",
    "        # self.signing_up_library = False\n",
    "        self.days_until_signup_complete = 0\n",
    "        # indices\n",
    "        self.libraries_to_scan = []\n",
    "        self.next_library_index = 0\n",
    "        \"\"\"\n",
    "        [\n",
    "        [original_library_index, [books_to_scan]]\n",
    "        ]\n",
    "        \"\"\"\n",
    "        self.solution = []\n",
    "\n",
    "    def scan(self):\n",
    "        for index, library_index in enumerate(self.libraries_to_scan):\n",
    "            library = self.libraries[library_index]\n",
    "            if not library.finish_scaning:\n",
    "                # library_original_index = library.INDEX\n",
    "                num_books_to_scan = library.n_scans\n",
    "                num_books_scanned = 0\n",
    "                # last_book_scanned = library.LAST_BOOK_SCANNED\n",
    "\n",
    "\n",
    "                books = library.books_ids\n",
    "\n",
    "                for book_index, book in enumerate(books):\n",
    "                    if not self.scanned_books[book]:\n",
    "                        self.solution[index][1].append(book)\n",
    "                        num_books_scanned += 1\n",
    "                        self.scanned_books[book] = True\n",
    "                        if num_books_scanned == num_books_to_scan:\n",
    "                            library.books_ids = books[book_index+1:]\n",
    "                            break\n",
    "\n",
    "                if num_books_scanned < num_books_to_scan:\n",
    "                    library.finish_scaning = True\n",
    "\n",
    "    def simulation_step(self):\n",
    "\n",
    "        if self.days_until_signup_complete == 0:\n",
    "            new_library_index = self.choose_a_library(self.cur_file == 'd')\n",
    "            new_library = self.libraries[new_library_index]\n",
    "            self.days_until_signup_complete = new_library.T\n",
    "            self.libraries_to_scan.append(new_library_index)\n",
    "            self.solution.append([new_library_index, []])\n",
    "\n",
    "\n",
    "        self.days_until_signup_complete -= 1\n",
    "        self.scan()\n",
    "\n",
    "        self.days_remaining -= 1\n",
    "\n",
    "    def choose_a_library(self, is_d):\n",
    "        if is_d:\n",
    "            index_1 = 2*self.next_library_index\n",
    "            index_2 = 2*self.next_library_index + 1\n",
    "            self.next_library_index += 1\n",
    "            if index_1 >= 30000 or index_2 >= 30000:\n",
    "                return 2*self.next_library_index%30000\n",
    "            library1 = self.libraries[index_1]\n",
    "            library2 = self.libraries[index_1]\n",
    "            if len(library1.books_ids) > len(library2.books_ids):\n",
    "                return index_1\n",
    "            else:\n",
    "                return index_2\n",
    "        else:\n",
    "            chosen_index = self.next_library_index\n",
    "            if (self.next_library_index < len(self.libraries)-1):\n",
    "                self.next_library_index += 1\n",
    "            return self.libraries[chosen_index].id\n",
    "\n",
    "    def print_solution(self):\n",
    "        with open('./output/' + self.cur_file + '.out', 'w') as f:\n",
    "            f.write(str(len(self.solution)) + '\\n')\n",
    "            for library in self.solution:\n",
    "                library_index = library[0]\n",
    "                library_books = library[1]\n",
    "                f.write(str(library_index) + ' ' + str(len(library_books)) + '\\n')\n",
    "                f.write(\" \".join(list(map(str, library_books))) + '\\n')"
   ]
  },
  {
   "cell_type": "code",
   "execution_count": 15,
   "id": "e0bbf9b2-ebb9-4f03-841e-749dccac66bf",
   "metadata": {},
   "outputs": [],
   "source": [
    "# skip d\n",
    "file_names = ['a', 'b', 'c', 'e', 'f']\n",
    "\n",
    "for file_name in file_names:\n",
    "    library_solution = LibrarySolution(file_name)\n",
    "\n",
    "    if file_name != 'd':\n",
    "        library_solution.libraries.sort(key = lambda x : x.T/x.M)\n",
    "    \n",
    "    while(library_solution.days_remaining > 0):\n",
    "        library_solution.simulation_step()\n",
    "\n",
    "    library_solution.print_solution()"
   ]
  },
  {
   "cell_type": "code",
   "execution_count": null,
   "id": "1410a76c-1148-419a-938a-df2b569a5798",
   "metadata": {},
   "outputs": [],
   "source": []
  }
 ],
 "metadata": {
  "kernelspec": {
   "display_name": "Python 3 (ipykernel)",
   "language": "python",
   "name": "python3"
  },
  "language_info": {
   "codemirror_mode": {
    "name": "ipython",
    "version": 3
   },
   "file_extension": ".py",
   "mimetype": "text/x-python",
   "name": "python",
   "nbconvert_exporter": "python",
   "pygments_lexer": "ipython3",
   "version": "3.8.5"
  }
 },
 "nbformat": 4,
 "nbformat_minor": 5
}
